{
 "cells": [
  {
   "cell_type": "markdown",
   "id": "fcf244b6",
   "metadata": {},
   "source": [
    "# Questions:"
   ]
  },
  {
   "cell_type": "code",
   "execution_count": null,
   "id": "f4116128",
   "metadata": {},
   "outputs": [],
   "source": [
    "#1.Q1. Write a program to accept percentage from the user and display the grade according to the following criteria:\n",
    "\n",
    "         Marks                                    Grade\n",
    "         > 90                                        A\n",
    "         > 80 and <= 90                              B\n",
    "         >= 60 and <= 80                             C\n",
    "         below 60                                    D"
   ]
  },
  {
   "cell_type": "code",
   "execution_count": 1,
   "id": "d236fe65",
   "metadata": {},
   "outputs": [
    {
     "name": "stdout",
     "output_type": "stream",
     "text": [
      "type of total marks 85\n",
      "user will get grade B\n"
     ]
    }
   ],
   "source": [
    "t_m=int(input(\"type of total marks \"))\n",
    "if t_m>=90:\n",
    "    print(\"user will get grade A\")\n",
    "elif t_m>80 and t_m<=90:\n",
    "    print(\"user will get grade B\")\n",
    "elif t_m>=60 and t_m<=80:\n",
    "    print(\"user will get grade c\")\n",
    "else:\n",
    "    print(\"if marks will be below 60 marks user will get grade D \")"
   ]
  },
  {
   "cell_type": "code",
   "execution_count": null,
   "id": "2aa03904",
   "metadata": {},
   "outputs": [],
   "source": [
    "#Q2. Write a program to accept the cost price of a bike and display the road tax to be paid according to the following criteria :\n",
    "    \n",
    "        Cost price(in Rs)                                        Tax\n",
    "        > 100000                                                  15 %\n",
    "        > 50000 and <= 100000                                     10%\n",
    "        <= 50000                                                  5%"
   ]
  },
  {
   "cell_type": "code",
   "execution_count": 24,
   "id": "7e25e977",
   "metadata": {},
   "outputs": [
    {
     "name": "stdout",
     "output_type": "stream",
     "text": [
      "cost price of bike 45000\n",
      "if the cost of the bike is less than or equal to 50000 then have to pay 5% of tax\n"
     ]
    }
   ],
   "source": [
    "c_p=int(input(\"cost price of bike \"))\n",
    "if c_p>100000:\n",
    "    print(\"you have to pay 15% of tax\")\n",
    "elif c_p>50000 and c_p<=100000:\n",
    "    print(\"you have to pay 10% of tax\")\n",
    "else:\n",
    "    print(\"if the cost of the bike is less than or equal to 50000 then have to pay 5% of tax\")\n",
    "    \n"
   ]
  },
  {
   "cell_type": "code",
   "execution_count": 12,
   "id": "ba8421d1",
   "metadata": {},
   "outputs": [],
   "source": [
    "# Q4. Write a program to check whether a person is eligible for voting or not. (accept age from user)\n"
   ]
  },
  {
   "cell_type": "code",
   "execution_count": 17,
   "id": "9e30ceca",
   "metadata": {},
   "outputs": [
    {
     "name": "stdout",
     "output_type": "stream",
     "text": [
      "age of person for voting 15\n",
      "the person is not eligible for voting\n"
     ]
    }
   ],
   "source": [
    "person=int(input(\"age of person for voting \"))\n",
    "if person>=18:\n",
    "    print(\"the person is eligible for voting\")\n",
    "else:\n",
    "    print(\"the person is not eligible for voting\")"
   ]
  },
  {
   "cell_type": "code",
   "execution_count": 14,
   "id": "d2461a5f",
   "metadata": {},
   "outputs": [],
   "source": [
    "#Q5. Write a program to check whether a number entered by user is even or odd.\n"
   ]
  },
  {
   "cell_type": "code",
   "execution_count": 21,
   "id": "cfe0fc2b",
   "metadata": {},
   "outputs": [
    {
     "name": "stdout",
     "output_type": "stream",
     "text": [
      "write a number 7\n",
      "the number entered by user is odd\n"
     ]
    }
   ],
   "source": [
    "user=int(input(\"write a number \"))\n",
    "if user%2==0:\n",
    "    print(\"the number entered by user is even\")\n",
    "else:\n",
    "    print(\"the number entered by user is odd\")"
   ]
  },
  {
   "cell_type": "code",
   "execution_count": 22,
   "id": "6a1fb37b",
   "metadata": {},
   "outputs": [],
   "source": [
    "#Q6. Write a program to check whether a number is divisible by 7 or not.\n"
   ]
  },
  {
   "cell_type": "code",
   "execution_count": 7,
   "id": "81de23f1",
   "metadata": {},
   "outputs": [
    {
     "name": "stdout",
     "output_type": "stream",
     "text": [
      "write a number 48\n",
      "the number is not divisible by 7\n"
     ]
    }
   ],
   "source": [
    "x=int(input(\"write a number \"))\n",
    "if x%7==0:\n",
    "    print(\"the number is divisible by 7\")\n",
    "else:\n",
    "    print(\"the number is not divisible by 7\")\n",
    "      "
   ]
  },
  {
   "cell_type": "code",
   "execution_count": 3,
   "id": "505d77bf",
   "metadata": {},
   "outputs": [],
   "source": [
    "#Q7. Write a program to display \"Hello\" if a number entered by user is a multiple of five , otherwise print \"Bye\"."
   ]
  },
  {
   "cell_type": "code",
   "execution_count": 15,
   "id": "c831fc74",
   "metadata": {},
   "outputs": [
    {
     "name": "stdout",
     "output_type": "stream",
     "text": [
      "write a number 45\n",
      "Hello\n"
     ]
    }
   ],
   "source": [
    "user=int(input(\"write a number \"))\n",
    "if user%5==0:\n",
    "    print(\"Hello\")\n",
    "else:\n",
    "    print(\"Bye\")"
   ]
  },
  {
   "cell_type": "code",
   "execution_count": null,
   "id": "abc45d7a",
   "metadata": {},
   "outputs": [],
   "source": [
    "Q8. Write a program to calculate the electricity bill (accept number of unit from user) according to the following criteria :\n",
    "  Unit                                                       Price  \n",
    "First 100 units                                             no charge\n",
    "Next 100 units                                              Rs 5 per unit\n",
    "After 200 units                                             Rs 10 per unit\n",
    "(For example if input unit is 350 than total bill amount is Rs2000)\n"
   ]
  },
  {
   "cell_type": "code",
   "execution_count": 12,
   "id": "f7823508",
   "metadata": {},
   "outputs": [
    {
     "name": "stdout",
     "output_type": "stream",
     "text": [
      "number of units600\n",
      "the total bill amount is  4500\n"
     ]
    }
   ],
   "source": [
    "a=int(input(\"number of units\"))\n",
    "if a<=100:\n",
    "    print(\"no charge\")\n",
    "elif a>100 and a<=200:\n",
    "    b=a-100\n",
    "    c=b*5\n",
    "    print(\"the total bill amount is\", c)\n",
    "else:\n",
    "    x=a-200\n",
    "    y=x*10\n",
    "    print(\"the total bill amount is \" ,y+500)\n",
    "    "
   ]
  },
  {
   "cell_type": "code",
   "execution_count": null,
   "id": "0a24f504",
   "metadata": {},
   "outputs": [],
   "source": [
    "#Q9. Write a program to display the last digit of a number.\n",
    "(hint : any number % 10 will return the last digit)"
   ]
  },
  {
   "cell_type": "code",
   "execution_count": 15,
   "id": "99f45688",
   "metadata": {},
   "outputs": [
    {
     "name": "stdout",
     "output_type": "stream",
     "text": [
      "write a number 68\n",
      "8\n"
     ]
    }
   ],
   "source": [
    "a=int(input(\"write a number \"))\n",
    "print(a%10)\n"
   ]
  },
  {
   "cell_type": "code",
   "execution_count": 14,
   "id": "3f24a603",
   "metadata": {},
   "outputs": [],
   "source": [
    "#Q10. Write a program to check whether the last digit of a number( entered by user ) is divisible by 3 or not."
   ]
  },
  {
   "cell_type": "code",
   "execution_count": 13,
   "id": "1556895a",
   "metadata": {},
   "outputs": [
    {
     "name": "stdout",
     "output_type": "stream",
     "text": [
      "write a number 21\n",
      "divisible not by 3\n"
     ]
    }
   ],
   "source": [
    "x=int(input(\"write a number \"))\n",
    "y=x%10\n",
    "if y%3==0:\n",
    "    print(\"divisible by 3\")\n",
    "else:\n",
    "    print(\"divisible not by 3\")\n",
    "    \n",
    "    \n",
    "\n",
    "\n"
   ]
  }
 ],
 "metadata": {
  "kernelspec": {
   "display_name": "Python 3 (ipykernel)",
   "language": "python",
   "name": "python3"
  },
  "language_info": {
   "codemirror_mode": {
    "name": "ipython",
    "version": 3
   },
   "file_extension": ".py",
   "mimetype": "text/x-python",
   "name": "python",
   "nbconvert_exporter": "python",
   "pygments_lexer": "ipython3",
   "version": "3.9.12"
  }
 },
 "nbformat": 4,
 "nbformat_minor": 5
}
